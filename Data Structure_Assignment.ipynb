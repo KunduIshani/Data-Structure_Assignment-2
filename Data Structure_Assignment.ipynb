{
 "cells": [
  {
   "cell_type": "markdown",
   "id": "38fdcc4c-2ffe-4d81-a8c1-4aace4d35ae5",
   "metadata": {},
   "source": [
    "## 1. Discuss string slicing and provide examples."
   ]
  },
  {
   "cell_type": "code",
   "execution_count": 1,
   "id": "f5bdcbe7-3a4c-4f95-a028-e3e0738150b6",
   "metadata": {},
   "outputs": [],
   "source": [
    "# String : String is a sequence of character where characters is a single unit of text which is helpful for representing and manupulating textual data in programming language.for example:"
   ]
  },
  {
   "cell_type": "code",
   "execution_count": 1,
   "id": "57ebf5ed-7e60-4b68-b079-7c3985b2e3aa",
   "metadata": {},
   "outputs": [
    {
     "data": {
      "text/plain": [
       "'Ishani'"
      ]
     },
     "execution_count": 1,
     "metadata": {},
     "output_type": "execute_result"
    }
   ],
   "source": [
    "a = \"Ishani\"\n",
    "a"
   ]
  },
  {
   "cell_type": "code",
   "execution_count": 2,
   "id": "adc32827-f940-4987-9365-46bb7ab7b644",
   "metadata": {},
   "outputs": [
    {
     "data": {
      "text/plain": [
       "str"
      ]
     },
     "execution_count": 2,
     "metadata": {},
     "output_type": "execute_result"
    }
   ],
   "source": [
    "type(a)"
   ]
  },
  {
   "cell_type": "code",
   "execution_count": 2,
   "id": "89645c27-3a45-4685-a600-7ef12d5f38f0",
   "metadata": {},
   "outputs": [],
   "source": [
    "# Extract\\Slicing of string."
   ]
  },
  {
   "cell_type": "code",
   "execution_count": 3,
   "id": "1cc9a3f3-a023-494b-8434-4d078b2103f2",
   "metadata": {},
   "outputs": [],
   "source": [
    "# String slicing in Python allows us to extract a portion of a string by specifying a start and end index. for example:"
   ]
  },
  {
   "cell_type": "code",
   "execution_count": 3,
   "id": "9c68f6c6-078c-4474-b221-057bcbdc9ac8",
   "metadata": {},
   "outputs": [
    {
     "data": {
      "text/plain": [
       "'i'"
      ]
     },
     "execution_count": 3,
     "metadata": {},
     "output_type": "execute_result"
    }
   ],
   "source": [
    "a = \"ishani kundu\"\n",
    "a[5]"
   ]
  },
  {
   "cell_type": "code",
   "execution_count": 6,
   "id": "5bccff1d-53df-484c-8f7b-0e2299151380",
   "metadata": {},
   "outputs": [
    {
     "data": {
      "text/plain": [
       "'I am '"
      ]
     },
     "execution_count": 6,
     "metadata": {},
     "output_type": "execute_result"
    }
   ],
   "source": [
    "a = \"I am a good student\"\n",
    "a[0:5]"
   ]
  },
  {
   "cell_type": "code",
   "execution_count": 8,
   "id": "055ba085-ee7f-4c3c-811b-01ec87d934c9",
   "metadata": {},
   "outputs": [
    {
     "data": {
      "text/plain": [
       "'I am a good student'"
      ]
     },
     "execution_count": 8,
     "metadata": {},
     "output_type": "execute_result"
    }
   ],
   "source": [
    "a[0:]"
   ]
  },
  {
   "cell_type": "code",
   "execution_count": 9,
   "id": "b66401e1-474f-4865-8363-867f7a87165c",
   "metadata": {},
   "outputs": [
    {
     "data": {
      "text/plain": [
       "'m a good student'"
      ]
     },
     "execution_count": 9,
     "metadata": {},
     "output_type": "execute_result"
    }
   ],
   "source": [
    "a[3:]"
   ]
  },
  {
   "cell_type": "code",
   "execution_count": 10,
   "id": "f2f64629-a78c-4c2e-97bc-3b042be8adce",
   "metadata": {},
   "outputs": [
    {
     "data": {
      "text/plain": [
       "'I am a good stud'"
      ]
     },
     "execution_count": 10,
     "metadata": {},
     "output_type": "execute_result"
    }
   ],
   "source": [
    "a[:-3]"
   ]
  },
  {
   "cell_type": "code",
   "execution_count": 12,
   "id": "1ef5881e-e1a2-4ba9-9d5c-cd31e7438b27",
   "metadata": {},
   "outputs": [
    {
     "data": {
      "text/plain": [
       "'ent'"
      ]
     },
     "execution_count": 12,
     "metadata": {},
     "output_type": "execute_result"
    }
   ],
   "source": [
    "a[-3:]"
   ]
  },
  {
   "cell_type": "code",
   "execution_count": 4,
   "id": "53c83d81-a958-4721-a798-997ae86aace0",
   "metadata": {},
   "outputs": [],
   "source": [
    "# Range in slicing string: (skipping element)"
   ]
  },
  {
   "cell_type": "code",
   "execution_count": 13,
   "id": "badb02c3-0eb0-41bf-90a9-d1ac3c838444",
   "metadata": {},
   "outputs": [
    {
     "data": {
      "text/plain": [
       "'hello'"
      ]
     },
     "execution_count": 13,
     "metadata": {},
     "output_type": "execute_result"
    }
   ],
   "source": [
    "a = \"hello world\"\n",
    "a[0:5:1]"
   ]
  },
  {
   "cell_type": "code",
   "execution_count": 14,
   "id": "87321eb4-094e-4bca-9c3c-c7ed9af81bad",
   "metadata": {},
   "outputs": [
    {
     "data": {
      "text/plain": [
       "'hlo'"
      ]
     },
     "execution_count": 14,
     "metadata": {},
     "output_type": "execute_result"
    }
   ],
   "source": [
    "a[0:5:2]"
   ]
  },
  {
   "cell_type": "code",
   "execution_count": 15,
   "id": "04893579-6847-4f69-b7ba-75684c081fc7",
   "metadata": {},
   "outputs": [
    {
     "data": {
      "text/plain": [
       "'hello world'"
      ]
     },
     "execution_count": 15,
     "metadata": {},
     "output_type": "execute_result"
    }
   ],
   "source": [
    "a[::1]"
   ]
  },
  {
   "cell_type": "code",
   "execution_count": 16,
   "id": "89aec071-74bd-4b28-bb09-df0b0cf75722",
   "metadata": {},
   "outputs": [
    {
     "data": {
      "text/plain": [
       "'hlowrd'"
      ]
     },
     "execution_count": 16,
     "metadata": {},
     "output_type": "execute_result"
    }
   ],
   "source": [
    "a[::2]"
   ]
  },
  {
   "cell_type": "code",
   "execution_count": 17,
   "id": "48dd9460-967f-4258-ac50-361f1a8dba8b",
   "metadata": {},
   "outputs": [
    {
     "data": {
      "text/plain": [
       "'dlrow olleh'"
      ]
     },
     "execution_count": 17,
     "metadata": {},
     "output_type": "execute_result"
    }
   ],
   "source": [
    "a[::-1] (reverse string)"
   ]
  },
  {
   "cell_type": "code",
   "execution_count": 18,
   "id": "600f93ca-ec4f-426f-88d7-b5195c659037",
   "metadata": {},
   "outputs": [
    {
     "data": {
      "text/plain": [
       "11"
      ]
     },
     "execution_count": 18,
     "metadata": {},
     "output_type": "execute_result"
    }
   ],
   "source": [
    "len(a)"
   ]
  },
  {
   "cell_type": "markdown",
   "id": "38c8174e-420c-47c2-a461-ca6031f16336",
   "metadata": {},
   "source": [
    "## 2. Explain the key features of lists in Python."
   ]
  },
  {
   "cell_type": "code",
   "execution_count": 5,
   "id": "92a98fc4-a07f-4dc4-968c-1425fdfd180a",
   "metadata": {},
   "outputs": [],
   "source": [
    "# List: are ordered collection of items.\n",
    "# a = [\"apple\",\"banana\",\"orange\"]\n",
    "# The important characteristics of Python lists are as follows:\n",
    "# Lists are ordered.\n",
    "# Lists can contain any arbitrary objects.\n",
    "# List elements can be accessed by index.\n",
    "# Lists can be nested to arbitrary depth.\n",
    "# Lists are mutable.\n",
    "# Lists are dynamic."
   ]
  },
  {
   "cell_type": "markdown",
   "id": "d993e771-57b9-4cfe-9438-d751be134239",
   "metadata": {},
   "source": [
    "## 3.Describe how to access, modify, and delete elements in a list with examples."
   ]
  },
  {
   "cell_type": "code",
   "execution_count": 6,
   "id": "0f31232f-507a-41ac-bbf9-df8a446c950b",
   "metadata": {},
   "outputs": [],
   "source": [
    "# As we know lists are mutable, these are the few features with example:"
   ]
  },
  {
   "cell_type": "code",
   "execution_count": 2,
   "id": "1bfea965-4d94-40f5-9ffb-ae28755a7d52",
   "metadata": {},
   "outputs": [
    {
     "data": {
      "text/plain": [
       "['apple', 'banana', 'orange', 'mango']"
      ]
     },
     "execution_count": 2,
     "metadata": {},
     "output_type": "execute_result"
    }
   ],
   "source": [
    "shopping_list = [\"apple\",\"banana\",\"orange\",\"mango\"]\n",
    "shopping_list"
   ]
  },
  {
   "cell_type": "code",
   "execution_count": 3,
   "id": "9531e86f-52cc-471f-865d-bdf3cb72865e",
   "metadata": {},
   "outputs": [
    {
     "data": {
      "text/plain": [
       "list"
      ]
     },
     "execution_count": 3,
     "metadata": {},
     "output_type": "execute_result"
    }
   ],
   "source": [
    "type(shopping_list)"
   ]
  },
  {
   "cell_type": "code",
   "execution_count": 4,
   "id": "62994ef5-78e0-431f-887b-906982b6b1d4",
   "metadata": {},
   "outputs": [
    {
     "data": {
      "text/plain": [
       "'apple'"
      ]
     },
     "execution_count": 4,
     "metadata": {},
     "output_type": "execute_result"
    }
   ],
   "source": [
    "shopping_list[0]"
   ]
  },
  {
   "cell_type": "code",
   "execution_count": 5,
   "id": "ef853a6f-05ce-4b56-9e0e-89c2d50c345f",
   "metadata": {},
   "outputs": [
    {
     "data": {
      "text/plain": [
       "['banana', 'orange', 'mango']"
      ]
     },
     "execution_count": 5,
     "metadata": {},
     "output_type": "execute_result"
    }
   ],
   "source": [
    "shopping_list[1:]"
   ]
  },
  {
   "cell_type": "code",
   "execution_count": 6,
   "id": "15e4c1ed-ff95-4238-a942-13783c38d064",
   "metadata": {},
   "outputs": [
    {
     "data": {
      "text/plain": [
       "['banana', 'orange', 'mango']"
      ]
     },
     "execution_count": 6,
     "metadata": {},
     "output_type": "execute_result"
    }
   ],
   "source": [
    "shopping_list[1:4]"
   ]
  },
  {
   "cell_type": "code",
   "execution_count": 7,
   "id": "a28bb2c6-91da-4e69-8263-61069783c7cb",
   "metadata": {},
   "outputs": [
    {
     "data": {
      "text/plain": [
       "['apple', 'banana', 'orange']"
      ]
     },
     "execution_count": 7,
     "metadata": {},
     "output_type": "execute_result"
    }
   ],
   "source": [
    "shopping_list[0:3]"
   ]
  },
  {
   "cell_type": "code",
   "execution_count": null,
   "id": "b902cad4-0e05-4eb3-8c2a-09cc535c8400",
   "metadata": {},
   "outputs": [],
   "source": [
    "adding elements in the list:"
   ]
  },
  {
   "cell_type": "code",
   "execution_count": 9,
   "id": "b32a071c-980f-41bb-91aa-c8e34a71d930",
   "metadata": {},
   "outputs": [
    {
     "data": {
      "text/plain": [
       "['apple', 'banana', 'orange', 'mango', 'grapes']"
      ]
     },
     "execution_count": 9,
     "metadata": {},
     "output_type": "execute_result"
    }
   ],
   "source": [
    "shopping_list = [\"apple\",\"banana\",\"orange\",\"mango\"]\n",
    "shopping_list.append(\"grapes\")\n",
    "shopping_list"
   ]
  },
  {
   "cell_type": "code",
   "execution_count": 10,
   "id": "e8ca07b7-ca10-494d-b76e-147124c3a571",
   "metadata": {},
   "outputs": [
    {
     "data": {
      "text/plain": [
       "['apple', 'banana', 'grapes', 'orange', 'mango']"
      ]
     },
     "execution_count": 10,
     "metadata": {},
     "output_type": "execute_result"
    }
   ],
   "source": [
    "shopping_list = [\"apple\",\"banana\",\"orange\",\"mango\"]\n",
    "shopping_list.insert(2,\"grapes\")\n",
    "shopping_list"
   ]
  },
  {
   "cell_type": "code",
   "execution_count": null,
   "id": "1de2d37b-610c-4d5b-b7a2-bfbaba80ad47",
   "metadata": {},
   "outputs": [],
   "source": [
    "extend elements in the list."
   ]
  },
  {
   "cell_type": "code",
   "execution_count": 14,
   "id": "c35b3421-309b-44ef-a25e-a7381c150256",
   "metadata": {},
   "outputs": [
    {
     "data": {
      "text/plain": [
       "['sun', 'moon', 'rain', 'stars']"
      ]
     },
     "execution_count": 14,
     "metadata": {},
     "output_type": "execute_result"
    }
   ],
   "source": [
    "list_1 = [\"sun\",\"moon\"]\n",
    "list_2 = [\"rain\",\"stars\"]\n",
    "list_1.extend(list_2)\n",
    "list_1"
   ]
  },
  {
   "cell_type": "code",
   "execution_count": 15,
   "id": "261aa4e2-49cc-445e-8534-31915c2a8656",
   "metadata": {},
   "outputs": [
    {
     "data": {
      "text/plain": [
       "['rain', 'stars']"
      ]
     },
     "execution_count": 15,
     "metadata": {},
     "output_type": "execute_result"
    }
   ],
   "source": [
    "list_2"
   ]
  },
  {
   "cell_type": "code",
   "execution_count": null,
   "id": "0b638272-108f-4da2-8b20-d3de1a811a72",
   "metadata": {},
   "outputs": [],
   "source": [
    "Concatenate:"
   ]
  },
  {
   "cell_type": "code",
   "execution_count": 13,
   "id": "0c197e93-5a94-484f-abab-f269e080c06d",
   "metadata": {},
   "outputs": [
    {
     "data": {
      "text/plain": [
       "['sun', 'moon', 'rain', 'stars']"
      ]
     },
     "execution_count": 13,
     "metadata": {},
     "output_type": "execute_result"
    }
   ],
   "source": [
    "list_1 = [\"sun\",\"moon\"]\n",
    "list_2 = [\"rain\",\"stars\"]\n",
    "list_1 + list_2"
   ]
  },
  {
   "cell_type": "code",
   "execution_count": null,
   "id": "82c23271-e079-478a-a79a-554d0e01b445",
   "metadata": {},
   "outputs": [],
   "source": [
    "Repeatation operation:\n",
    "single element:"
   ]
  },
  {
   "cell_type": "code",
   "execution_count": 17,
   "id": "244642a5-ad6e-425a-b4a1-32fa562cf74a",
   "metadata": {},
   "outputs": [
    {
     "data": {
      "text/plain": [
       "[0, 0, 0, 0, 0, 0, 0, 0, 0, 0]"
      ]
     },
     "execution_count": 17,
     "metadata": {},
     "output_type": "execute_result"
    }
   ],
   "source": [
    "[0]*10"
   ]
  },
  {
   "cell_type": "code",
   "execution_count": 18,
   "id": "9a08a9e1-391c-4aac-8d4d-b3e0cf6149ff",
   "metadata": {},
   "outputs": [
    {
     "data": {
      "text/plain": [
       "[1, 2, 3, 1, 2, 3, 1, 2, 3]"
      ]
     },
     "execution_count": 18,
     "metadata": {},
     "output_type": "execute_result"
    }
   ],
   "source": [
    "[1,2,3]*3"
   ]
  },
  {
   "cell_type": "code",
   "execution_count": 19,
   "id": "53dbe487-5192-4107-b919-2bc646c0b175",
   "metadata": {},
   "outputs": [
    {
     "data": {
      "text/plain": [
       "[0,\n",
       " 1,\n",
       " 2,\n",
       " 3,\n",
       " 4,\n",
       " 5,\n",
       " 6,\n",
       " 7,\n",
       " 8,\n",
       " 9,\n",
       " 0,\n",
       " 1,\n",
       " 2,\n",
       " 3,\n",
       " 4,\n",
       " 5,\n",
       " 6,\n",
       " 7,\n",
       " 8,\n",
       " 9,\n",
       " 0,\n",
       " 1,\n",
       " 2,\n",
       " 3,\n",
       " 4,\n",
       " 5,\n",
       " 6,\n",
       " 7,\n",
       " 8,\n",
       " 9]"
      ]
     },
     "execution_count": 19,
     "metadata": {},
     "output_type": "execute_result"
    }
   ],
   "source": [
    "list(range(10))*3"
   ]
  },
  {
   "cell_type": "code",
   "execution_count": 22,
   "id": "f4ec10b6-b092-4d31-a046-a3ca77dea0d9",
   "metadata": {},
   "outputs": [
    {
     "name": "stdout",
     "output_type": "stream",
     "text": [
      "you are beautiful\n",
      "you are beautiful\n",
      "you are beautiful\n",
      "\n"
     ]
    }
   ],
   "source": [
    "msg = 'you are beautiful\\n'\n",
    "print(msg*3)"
   ]
  },
  {
   "cell_type": "code",
   "execution_count": null,
   "id": "11af76d7-a262-4158-ab43-b943e2e81be0",
   "metadata": {},
   "outputs": [],
   "source": [
    "membership in, not in:"
   ]
  },
  {
   "cell_type": "code",
   "execution_count": 24,
   "id": "9032f3d8-991f-415c-8913-7529e59ea5e4",
   "metadata": {},
   "outputs": [
    {
     "data": {
      "text/plain": [
       "True"
      ]
     },
     "execution_count": 24,
     "metadata": {},
     "output_type": "execute_result"
    }
   ],
   "source": [
    "shopping_list = [\"apple\",\"banana\",\"orange\",\"mango\"]\n",
    "\"apple\" in shopping_list"
   ]
  },
  {
   "cell_type": "code",
   "execution_count": 25,
   "id": "4850c750-780b-41f2-9b6c-5cb172493fd0",
   "metadata": {},
   "outputs": [
    {
     "data": {
      "text/plain": [
       "False"
      ]
     },
     "execution_count": 25,
     "metadata": {},
     "output_type": "execute_result"
    }
   ],
   "source": [
    "shopping_list = [\"apple\",\"banana\",\"orange\",\"mango\"]\n",
    "\"apple\"  not in shopping_list"
   ]
  },
  {
   "cell_type": "code",
   "execution_count": null,
   "id": "45c81f32-e609-4bd6-bc45-d5e8afcd30e7",
   "metadata": {},
   "outputs": [],
   "source": [
    "sorting list:"
   ]
  },
  {
   "cell_type": "code",
   "execution_count": 26,
   "id": "f278ddd9-02d4-4a7d-ac90-74c104defa5e",
   "metadata": {},
   "outputs": [
    {
     "data": {
      "text/plain": [
       "['Bengali', 'English', 'Math', 'science']"
      ]
     },
     "execution_count": 26,
     "metadata": {},
     "output_type": "execute_result"
    }
   ],
   "source": [
    "books = [\"English\",\"Math\",\"science\",\"Bengali\"]\n",
    "sorted(books)"
   ]
  },
  {
   "cell_type": "code",
   "execution_count": 28,
   "id": "a5b6f25a-ec4e-4e6b-b785-eae77f589477",
   "metadata": {},
   "outputs": [
    {
     "data": {
      "text/plain": [
       "2"
      ]
     },
     "execution_count": 28,
     "metadata": {},
     "output_type": "execute_result"
    }
   ],
   "source": [
    "books.index(\"science\")"
   ]
  },
  {
   "cell_type": "code",
   "execution_count": 29,
   "id": "505c6171-759e-4b9e-a4ee-4e5867f85cea",
   "metadata": {},
   "outputs": [
    {
     "data": {
      "text/plain": [
       "4"
      ]
     },
     "execution_count": 29,
     "metadata": {},
     "output_type": "execute_result"
    }
   ],
   "source": [
    "len(books)"
   ]
  },
  {
   "cell_type": "code",
   "execution_count": 40,
   "id": "8119caf5-e68f-4e10-94f6-596b013f4f2a",
   "metadata": {},
   "outputs": [
    {
     "data": {
      "text/plain": [
       "['English', 'science', 'Bengali']"
      ]
     },
     "execution_count": 40,
     "metadata": {},
     "output_type": "execute_result"
    }
   ],
   "source": [
    "book_list = [\"English\",\"Math\",\"science\",\"Bengali\"]\n",
    "book_list.remove(\"Math\")\n",
    "book_list"
   ]
  },
  {
   "cell_type": "code",
   "execution_count": 48,
   "id": "172be87a-0264-4603-bf1b-51663487c33c",
   "metadata": {},
   "outputs": [
    {
     "ename": "NameError",
     "evalue": "name 'book_list' is not defined",
     "output_type": "error",
     "traceback": [
      "\u001b[0;31m---------------------------------------------------------------------------\u001b[0m",
      "\u001b[0;31mNameError\u001b[0m                                 Traceback (most recent call last)",
      "Cell \u001b[0;32mIn[48], line 3\u001b[0m\n\u001b[1;32m      1\u001b[0m book_list \u001b[38;5;241m=\u001b[39m [\u001b[38;5;124m\"\u001b[39m\u001b[38;5;124mEnglish\u001b[39m\u001b[38;5;124m\"\u001b[39m,\u001b[38;5;124m\"\u001b[39m\u001b[38;5;124mMath\u001b[39m\u001b[38;5;124m\"\u001b[39m,\u001b[38;5;124m\"\u001b[39m\u001b[38;5;124mscience\u001b[39m\u001b[38;5;124m\"\u001b[39m,\u001b[38;5;124m\"\u001b[39m\u001b[38;5;124mBengali\u001b[39m\u001b[38;5;124m\"\u001b[39m]\n\u001b[1;32m      2\u001b[0m \u001b[38;5;28;01mdel\u001b[39;00m book_list\n\u001b[0;32m----> 3\u001b[0m \u001b[43mbook_list\u001b[49m\n",
      "\u001b[0;31mNameError\u001b[0m: name 'book_list' is not defined"
     ]
    }
   ],
   "source": [
    "book_list = [\"English\",\"Math\",\"science\",\"Bengali\"]\n",
    "del book_list\n",
    "book_list"
   ]
  },
  {
   "cell_type": "code",
   "execution_count": 47,
   "id": "53d33bb6-82fa-4fff-8d4f-9899bc1f6ccb",
   "metadata": {},
   "outputs": [
    {
     "data": {
      "text/plain": [
       "[]"
      ]
     },
     "execution_count": 47,
     "metadata": {},
     "output_type": "execute_result"
    }
   ],
   "source": [
    "book_list = [\"English\",\"Math\",\"science\",\"Bengali\"]\n",
    "book_list.clear()\n",
    "book_list"
   ]
  },
  {
   "cell_type": "code",
   "execution_count": 49,
   "id": "a7f8637e-fb38-49e5-b2fc-4b4040f26589",
   "metadata": {},
   "outputs": [
    {
     "data": {
      "text/plain": [
       "'Bengali'"
      ]
     },
     "execution_count": 49,
     "metadata": {},
     "output_type": "execute_result"
    }
   ],
   "source": [
    "book_list = [\"English\",\"Math\",\"science\",\"Bengali\"]\n",
    "book_list.pop()"
   ]
  },
  {
   "cell_type": "code",
   "execution_count": 51,
   "id": "0e9c7457-179b-41cb-a34d-06efc90c2996",
   "metadata": {},
   "outputs": [
    {
     "data": {
      "text/plain": [
       "'science'"
      ]
     },
     "execution_count": 51,
     "metadata": {},
     "output_type": "execute_result"
    }
   ],
   "source": [
    "book_list.pop(2)"
   ]
  },
  {
   "cell_type": "code",
   "execution_count": null,
   "id": "8bfe994d-9fbd-4239-98fa-fe649b177acd",
   "metadata": {},
   "outputs": [],
   "source": [
    "list comprehension:"
   ]
  },
  {
   "cell_type": "code",
   "execution_count": 52,
   "id": "a21866b1-88ae-40c2-8bc8-4f61ea3f2ef6",
   "metadata": {},
   "outputs": [
    {
     "data": {
      "text/plain": [
       "[20, 40, 60, 80, 100]"
      ]
     },
     "execution_count": 52,
     "metadata": {},
     "output_type": "execute_result"
    }
   ],
   "source": [
    "Price = [10,20,30,40,50]\n",
    "[Price*2 for Price in Price]"
   ]
  },
  {
   "cell_type": "code",
   "execution_count": 53,
   "id": "00e37e32-ef93-4d50-8c97-eb7eee4863ec",
   "metadata": {},
   "outputs": [
    {
     "data": {
      "text/plain": [
       "['Ishani', 'Puja', 'Rimpa']"
      ]
     },
     "execution_count": 53,
     "metadata": {},
     "output_type": "execute_result"
    }
   ],
   "source": [
    "names = [\"ishani\",\"puja\",\"rimpa\"]\n",
    "[name.capitalize()for name in names]"
   ]
  },
  {
   "cell_type": "code",
   "execution_count": null,
   "id": "75255e40-d2eb-40cd-9a92-c1da81ac001a",
   "metadata": {},
   "outputs": [],
   "source": [
    "Conditional list comprehension:"
   ]
  },
  {
   "cell_type": "code",
   "execution_count": 54,
   "id": "d528d9af-607f-46e4-a9a6-c703daf29d72",
   "metadata": {},
   "outputs": [
    {
     "data": {
      "text/plain": [
       "['pk@yahoo.com', 'pr@yahoo.com']"
      ]
     },
     "execution_count": 54,
     "metadata": {},
     "output_type": "execute_result"
    }
   ],
   "source": [
    "email_address = [\"ik@gmail.com\",\"pk@yahoo.com\",\"rk@gmail.com\",\"pr@yahoo.com\"]\n",
    "[email for email in email_address if email.endswith(\"@yahoo.com\")]"
   ]
  },
  {
   "cell_type": "code",
   "execution_count": null,
   "id": "8a70bc72-0c86-4c71-8c1d-e6ba5b7454c0",
   "metadata": {},
   "outputs": [],
   "source": [
    "nested list comprehension:"
   ]
  },
  {
   "cell_type": "code",
   "execution_count": 59,
   "id": "39fed216-57da-4f9a-924b-f35d585f964d",
   "metadata": {},
   "outputs": [
    {
     "data": {
      "text/plain": [
       "[[1, 4], [1, 5], [1, 6], [2, 4], [2, 5], [2, 6], [3, 4], [3, 5], [3, 6]]"
      ]
     },
     "execution_count": 59,
     "metadata": {},
     "output_type": "execute_result"
    }
   ],
   "source": [
    "Pairs = []\n",
    "for x in [1,2,3]:\n",
    "    for y in [4,5,6]:\n",
    "        Pairs.append([x,y])\n",
    "Pairs"
   ]
  },
  {
   "cell_type": "code",
   "execution_count": 63,
   "id": "db6ad2bc-457c-4e3a-b89f-0f42ce9ca3a6",
   "metadata": {},
   "outputs": [
    {
     "data": {
      "text/plain": [
       "[[1, 4], [1, 5], [1, 6], [2, 4], [2, 5], [2, 6], [3, 4], [3, 5], [3, 6]]"
      ]
     },
     "execution_count": 63,
     "metadata": {},
     "output_type": "execute_result"
    }
   ],
   "source": [
    "[[x,y] for x in [1,2,3] for y in [4,5,6]]\n",
    "Pairs"
   ]
  },
  {
   "cell_type": "code",
   "execution_count": 64,
   "id": "d211a456-3a92-4261-a467-4bd682346d40",
   "metadata": {},
   "outputs": [],
   "source": [
    "#list as stack and queue (optional learning), thus not explaining."
   ]
  },
  {
   "cell_type": "markdown",
   "id": "43fd8aeb-3640-486a-96be-59d0cad42584",
   "metadata": {},
   "source": [
    "## 4.Compare and contrast tuples and lists with examples."
   ]
  },
  {
   "cell_type": "code",
   "execution_count": 7,
   "id": "45df1986-4d58-440a-950d-9051e4079ebb",
   "metadata": {},
   "outputs": [],
   "source": [
    "# Tuples are order collection of elements, they are heterogenous and tuples are immutable, where as Lists are also order of collection of elements, they are also heterogenous but list are mutable. thus, in tuples we cannot modify the data as we can in lists. Alos, tupes are represented like this: () and lists are represented like this:[]\n",
    "# for example:"
   ]
  },
  {
   "cell_type": "code",
   "execution_count": 1,
   "id": "bbd1c476-8792-47e4-ab9f-97738dadf89d",
   "metadata": {},
   "outputs": [
    {
     "data": {
      "text/plain": [
       "['apple', 'mango', 'banana']"
      ]
     },
     "execution_count": 1,
     "metadata": {},
     "output_type": "execute_result"
    }
   ],
   "source": [
    "list = [\"apple\",\"mango\",\"banana\",]\n",
    "list"
   ]
  },
  {
   "cell_type": "code",
   "execution_count": 2,
   "id": "3c55d7a2-2286-4805-9e17-66d4a5213205",
   "metadata": {},
   "outputs": [
    {
     "data": {
      "text/plain": [
       "list"
      ]
     },
     "execution_count": 2,
     "metadata": {},
     "output_type": "execute_result"
    }
   ],
   "source": [
    "type(list)"
   ]
  },
  {
   "cell_type": "code",
   "execution_count": 3,
   "id": "1ee2bc66-dcbf-4dd4-b826-3c810858853e",
   "metadata": {},
   "outputs": [
    {
     "data": {
      "text/plain": [
       "['apple', 'mango', 'banana', 'orange']"
      ]
     },
     "execution_count": 3,
     "metadata": {},
     "output_type": "execute_result"
    }
   ],
   "source": [
    "list.append(\"orange\")\n",
    "list"
   ]
  },
  {
   "cell_type": "code",
   "execution_count": 4,
   "id": "a2e7139a-28e2-47fc-a172-83ce8fc664c8",
   "metadata": {},
   "outputs": [
    {
     "data": {
      "text/plain": [
       "('ishnai', 'pwskills', 1, 2, 3, True, (4+5j))"
      ]
     },
     "execution_count": 4,
     "metadata": {},
     "output_type": "execute_result"
    }
   ],
   "source": [
    "t = (\"ishnai\",\"pwskills\",1,2,3,True,4+5j)\n",
    "t"
   ]
  },
  {
   "cell_type": "code",
   "execution_count": 5,
   "id": "2f7b18ff-dc71-498a-840e-ddeb9a42a235",
   "metadata": {},
   "outputs": [
    {
     "data": {
      "text/plain": [
       "tuple"
      ]
     },
     "execution_count": 5,
     "metadata": {},
     "output_type": "execute_result"
    }
   ],
   "source": [
    "type(t)"
   ]
  },
  {
   "cell_type": "code",
   "execution_count": 6,
   "id": "e9da898b-21de-4d0a-aa33-6417e986dc45",
   "metadata": {},
   "outputs": [
    {
     "ename": "AttributeError",
     "evalue": "'tuple' object has no attribute 'append'",
     "output_type": "error",
     "traceback": [
      "\u001b[0;31m---------------------------------------------------------------------------\u001b[0m",
      "\u001b[0;31mAttributeError\u001b[0m                            Traceback (most recent call last)",
      "Cell \u001b[0;32mIn[6], line 1\u001b[0m\n\u001b[0;32m----> 1\u001b[0m \u001b[43mt\u001b[49m\u001b[38;5;241;43m.\u001b[39;49m\u001b[43mappend\u001b[49m(\u001b[38;5;124m\"\u001b[39m\u001b[38;5;124morange\u001b[39m\u001b[38;5;124m\"\u001b[39m)\n\u001b[1;32m      2\u001b[0m t\n",
      "\u001b[0;31mAttributeError\u001b[0m: 'tuple' object has no attribute 'append'"
     ]
    }
   ],
   "source": [
    "t.append(\"orange\")\n",
    "t"
   ]
  },
  {
   "cell_type": "code",
   "execution_count": 7,
   "id": "ce8efb1a-cc52-46b4-a1db-875a6f0f7675",
   "metadata": {},
   "outputs": [
    {
     "ename": "TypeError",
     "evalue": "'tuple' object does not support item assignment",
     "output_type": "error",
     "traceback": [
      "\u001b[0;31m---------------------------------------------------------------------------\u001b[0m",
      "\u001b[0;31mTypeError\u001b[0m                                 Traceback (most recent call last)",
      "Cell \u001b[0;32mIn[7], line 1\u001b[0m\n\u001b[0;32m----> 1\u001b[0m \u001b[43mt\u001b[49m\u001b[43m[\u001b[49m\u001b[38;5;241;43m0\u001b[39;49m\u001b[43m]\u001b[49m \u001b[38;5;241m=\u001b[39m \u001b[38;5;241m100\u001b[39m\n\u001b[1;32m      2\u001b[0m t\n",
      "\u001b[0;31mTypeError\u001b[0m: 'tuple' object does not support item assignment"
     ]
    }
   ],
   "source": [
    "t[0] = 100\n",
    "t"
   ]
  },
  {
   "cell_type": "markdown",
   "id": "10409edd-03b1-45ef-bd74-6ed38aecb725",
   "metadata": {},
   "source": [
    "## 5.Describe the key features of sets and provide examples of their use."
   ]
  },
  {
   "cell_type": "code",
   "execution_count": 8,
   "id": "aa70f6c6-cfa0-448a-abb2-1afd75f7dd83",
   "metadata": {},
   "outputs": [],
   "source": [
    "# Sets : are unoredred and unique collection of elements.\n",
    "# The key features are :\n",
    "# 1. sets does not allow duplicate elements.\n",
    "# 2. sets are unordered collection of elements, thus indexing will not work.\n",
    "# 3. sets are mutable."
   ]
  },
  {
   "cell_type": "code",
   "execution_count": 8,
   "id": "1aa52b1b-4cdb-4f6c-b25a-0efe47eb52d2",
   "metadata": {},
   "outputs": [
    {
     "data": {
      "text/plain": [
       "{1, 2, 3, 4, 5, 6, 'ishani'}"
      ]
     },
     "execution_count": 8,
     "metadata": {},
     "output_type": "execute_result"
    }
   ],
   "source": [
    "s = {1,2,3,4,5,\"ishani\",\"ishani\",2,2,5,6}\n",
    "s"
   ]
  },
  {
   "cell_type": "code",
   "execution_count": 9,
   "id": "c0b9218f-8b85-4883-81b5-90ab8244c4b1",
   "metadata": {},
   "outputs": [
    {
     "data": {
      "text/plain": [
       "set"
      ]
     },
     "execution_count": 9,
     "metadata": {},
     "output_type": "execute_result"
    }
   ],
   "source": [
    "type(s)"
   ]
  },
  {
   "cell_type": "markdown",
   "id": "f36206d7-ec0a-49e2-b045-2fb58573f20c",
   "metadata": {},
   "source": [
    "## 6.Discuss the use cases of tuples and sets in Python programming."
   ]
  },
  {
   "cell_type": "code",
   "execution_count": null,
   "id": "b654552b-df66-4e61-a5fa-be9866c3a7f9",
   "metadata": {},
   "outputs": [],
   "source": [
    "some of the use cases of set are:"
   ]
  },
  {
   "cell_type": "code",
   "execution_count": 7,
   "id": "f2756d85-bc3d-4544-90e2-8988e3d170ad",
   "metadata": {},
   "outputs": [
    {
     "data": {
      "text/plain": [
       "{1, 2, 3, 'apple', 'orange'}"
      ]
     },
     "execution_count": 7,
     "metadata": {},
     "output_type": "execute_result"
    }
   ],
   "source": [
    "list = [1,2,3,\"apple\",\"apple\",\"orange\"]\n",
    "s =set(list)\n",
    "s"
   ]
  },
  {
   "cell_type": "code",
   "execution_count": 8,
   "id": "9bae08b0-b431-4e0a-a1d2-b3593e353ec8",
   "metadata": {},
   "outputs": [
    {
     "ename": "TypeError",
     "evalue": "'list' object is not callable",
     "output_type": "error",
     "traceback": [
      "\u001b[0;31m---------------------------------------------------------------------------\u001b[0m",
      "\u001b[0;31mTypeError\u001b[0m                                 Traceback (most recent call last)",
      "Cell \u001b[0;32mIn[8], line 1\u001b[0m\n\u001b[0;32m----> 1\u001b[0m \u001b[38;5;28mlist\u001b[39m \u001b[38;5;241m=\u001b[39m \u001b[38;5;28;43mlist\u001b[39;49m\u001b[43m(\u001b[49m\u001b[43ms\u001b[49m\u001b[43m)\u001b[49m\n\u001b[1;32m      2\u001b[0m \u001b[38;5;28mlist\u001b[39m\n",
      "\u001b[0;31mTypeError\u001b[0m: 'list' object is not callable"
     ]
    }
   ],
   "source": [
    "list = list(s)\n",
    "list"
   ]
  },
  {
   "cell_type": "code",
   "execution_count": 9,
   "id": "84fad4c1-c16b-4990-9f38-3dee0499624c",
   "metadata": {},
   "outputs": [],
   "source": [
    "#we cannot create sets within a set.\n",
    "#for example:"
   ]
  },
  {
   "cell_type": "code",
   "execution_count": 10,
   "id": "104f8271-80e9-4db1-a5bb-e52648d5aa4c",
   "metadata": {},
   "outputs": [
    {
     "ename": "TypeError",
     "evalue": "unhashable type: 'set'",
     "output_type": "error",
     "traceback": [
      "\u001b[0;31m---------------------------------------------------------------------------\u001b[0m",
      "\u001b[0;31mTypeError\u001b[0m                                 Traceback (most recent call last)",
      "Cell \u001b[0;32mIn[10], line 1\u001b[0m\n\u001b[0;32m----> 1\u001b[0m s \u001b[38;5;241m=\u001b[39m {\u001b[38;5;241m1\u001b[39m,\u001b[38;5;241m2\u001b[39m,\u001b[38;5;241m3\u001b[39m,\u001b[38;5;241m4\u001b[39m,\u001b[38;5;241m5\u001b[39m,{\u001b[38;5;241m6\u001b[39m,\u001b[38;5;241m7\u001b[39m,\u001b[38;5;241m8\u001b[39m}}\n\u001b[1;32m      2\u001b[0m s\n",
      "\u001b[0;31mTypeError\u001b[0m: unhashable type: 'set'"
     ]
    }
   ],
   "source": [
    "s = {1,2,3,4,5,{6,7,8}}\n",
    "s"
   ]
  },
  {
   "cell_type": "code",
   "execution_count": 11,
   "id": "6d45c9c7-0efa-46d3-a194-41480607e61a",
   "metadata": {},
   "outputs": [],
   "source": [
    "#set inside set must be immutable. thus,"
   ]
  },
  {
   "cell_type": "code",
   "execution_count": 12,
   "id": "1dbdd470-3246-413c-a6fb-9de6919f596b",
   "metadata": {},
   "outputs": [
    {
     "data": {
      "text/plain": [
       "{(6, 7, 8), 1, 2, 3, 4, 5}"
      ]
     },
     "execution_count": 12,
     "metadata": {},
     "output_type": "execute_result"
    }
   ],
   "source": [
    "s = {1,2,3,4,5,(6,7,8)}\n",
    "s"
   ]
  },
  {
   "cell_type": "code",
   "execution_count": 13,
   "id": "0575745c-cd67-4083-9cc1-c5ed80e0b712",
   "metadata": {},
   "outputs": [],
   "source": [
    "#indexing is not possible in sets. for example:"
   ]
  },
  {
   "cell_type": "code",
   "execution_count": 14,
   "id": "15be8171-2ea3-4e7a-984d-8f6b889b216e",
   "metadata": {},
   "outputs": [
    {
     "ename": "TypeError",
     "evalue": "'set' object is not subscriptable",
     "output_type": "error",
     "traceback": [
      "\u001b[0;31m---------------------------------------------------------------------------\u001b[0m",
      "\u001b[0;31mTypeError\u001b[0m                                 Traceback (most recent call last)",
      "Cell \u001b[0;32mIn[14], line 1\u001b[0m\n\u001b[0;32m----> 1\u001b[0m \u001b[43ms\u001b[49m\u001b[43m[\u001b[49m\u001b[38;5;241;43m0\u001b[39;49m\u001b[43m]\u001b[49m\n",
      "\u001b[0;31mTypeError\u001b[0m: 'set' object is not subscriptable"
     ]
    }
   ],
   "source": [
    "s[0]"
   ]
  },
  {
   "cell_type": "code",
   "execution_count": 15,
   "id": "efbb2e77-d2b3-4434-9c8c-814370beae09",
   "metadata": {},
   "outputs": [
    {
     "ename": "TypeError",
     "evalue": "'set' object is not subscriptable",
     "output_type": "error",
     "traceback": [
      "\u001b[0;31m---------------------------------------------------------------------------\u001b[0m",
      "\u001b[0;31mTypeError\u001b[0m                                 Traceback (most recent call last)",
      "Cell \u001b[0;32mIn[15], line 1\u001b[0m\n\u001b[0;32m----> 1\u001b[0m \u001b[43ms\u001b[49m\u001b[43m[\u001b[49m\u001b[43m:\u001b[49m\u001b[38;5;241;43m2\u001b[39;49m\u001b[43m]\u001b[49m\n",
      "\u001b[0;31mTypeError\u001b[0m: 'set' object is not subscriptable"
     ]
    }
   ],
   "source": [
    "s[:2]"
   ]
  },
  {
   "cell_type": "code",
   "execution_count": 16,
   "id": "7d9ab741-20ec-4919-9c02-a76e8e896140",
   "metadata": {},
   "outputs": [
    {
     "name": "stdout",
     "output_type": "stream",
     "text": [
      "1\n",
      "2\n",
      "3\n",
      "4\n",
      "5\n",
      "(6, 7, 8)\n"
     ]
    }
   ],
   "source": [
    "#but\n",
    "for i in s:\n",
    "    print(i)"
   ]
  },
  {
   "cell_type": "code",
   "execution_count": 17,
   "id": "abcc2b86-c2ce-4043-94c5-2e9025117d8f",
   "metadata": {},
   "outputs": [
    {
     "data": {
      "text/plain": [
       "{(6, 7, 8), 1, 100, 2, 3, 4, 5}"
      ]
     },
     "execution_count": 17,
     "metadata": {},
     "output_type": "execute_result"
    }
   ],
   "source": [
    "#sets are mutuble:\n",
    "s.add(100)\n",
    "s"
   ]
  },
  {
   "cell_type": "code",
   "execution_count": 19,
   "id": "aabaccff-b07d-4a13-809d-347fd69e74fe",
   "metadata": {},
   "outputs": [
    {
     "data": {
      "text/plain": [
       "{(6, 7, 8), 100, 2, 3, 4, 5}"
      ]
     },
     "execution_count": 19,
     "metadata": {},
     "output_type": "execute_result"
    }
   ],
   "source": [
    "s.pop()\n",
    "s"
   ]
  },
  {
   "cell_type": "code",
   "execution_count": 22,
   "id": "01a107c3-4a4f-4fb6-93df-8a66a7a10c37",
   "metadata": {},
   "outputs": [
    {
     "data": {
      "text/plain": [
       "{(6, 7, 8), 100, 2, 4}"
      ]
     },
     "execution_count": 22,
     "metadata": {},
     "output_type": "execute_result"
    }
   ],
   "source": [
    "s.remove(5)\n",
    "s"
   ]
  },
  {
   "cell_type": "code",
   "execution_count": 23,
   "id": "5fabf8cb-3968-4e8b-9250-b0246c6272a6",
   "metadata": {},
   "outputs": [
    {
     "data": {
      "text/plain": [
       "{1, 100, 2, 3, 4, 5, 'A', 'a', 'j', 'y'}"
      ]
     },
     "execution_count": 23,
     "metadata": {},
     "output_type": "execute_result"
    }
   ],
   "source": [
    "#updation of sets:\n",
    "s = {1,2,3,4,5,100}\n",
    "s.update(\"Ajay\")\n",
    "s"
   ]
  },
  {
   "cell_type": "code",
   "execution_count": 24,
   "id": "2797fe52-9073-45b3-8f0b-e1327afc1afb",
   "metadata": {},
   "outputs": [
    {
     "data": {
      "text/plain": [
       "{1, 100, 2, 3, 4, 5, 'Ajay'}"
      ]
     },
     "execution_count": 24,
     "metadata": {},
     "output_type": "execute_result"
    }
   ],
   "source": [
    "#but if we do:\n",
    "s = {1,2,3,4,5,100}\n",
    "s.update([\"Ajay\"])\n",
    "s"
   ]
  },
  {
   "cell_type": "code",
   "execution_count": 25,
   "id": "6bf98b47-71e2-4a41-b390-71f6ce7e5be8",
   "metadata": {},
   "outputs": [
    {
     "data": {
      "text/plain": [
       "{(1, 2, 3), 100, '2', 3.4}"
      ]
     },
     "execution_count": 25,
     "metadata": {},
     "output_type": "execute_result"
    }
   ],
   "source": [
    "#also, sets can have multiple tuples:\n",
    "s = {(1,2,3),100,'2',3.4}\n",
    "s"
   ]
  },
  {
   "cell_type": "code",
   "execution_count": 27,
   "id": "97ad1775-63cd-4be1-aac9-1cf4b7716025",
   "metadata": {},
   "outputs": [],
   "source": [
    "#sets operation:"
   ]
  },
  {
   "cell_type": "code",
   "execution_count": 33,
   "id": "3a119771-5ac5-49a3-8b1d-3e63d9c81a2e",
   "metadata": {},
   "outputs": [
    {
     "data": {
      "text/plain": [
       "{'coding', 'hiking', 'photography', 'reading', 'travelling'}"
      ]
     },
     "execution_count": 33,
     "metadata": {},
     "output_type": "execute_result"
    }
   ],
   "source": [
    "s1 = {\"hiking\",\"reading\",\"coding\"}\n",
    "s2 = {\"travelling\",\"coding\",\"photography\"}\n",
    "s1|s2  #union"
   ]
  },
  {
   "cell_type": "code",
   "execution_count": 34,
   "id": "a98b2196-af2a-4f57-8fd4-659f2d4c1910",
   "metadata": {},
   "outputs": [
    {
     "data": {
      "text/plain": [
       "{'coding'}"
      ]
     },
     "execution_count": 34,
     "metadata": {},
     "output_type": "execute_result"
    }
   ],
   "source": [
    "s1 & s2 #intersection"
   ]
  },
  {
   "cell_type": "code",
   "execution_count": 35,
   "id": "86f0e62c-2b40-49a8-802c-3a269beb1a20",
   "metadata": {},
   "outputs": [
    {
     "data": {
      "text/plain": [
       "{'hiking', 'reading'}"
      ]
     },
     "execution_count": 35,
     "metadata": {},
     "output_type": "execute_result"
    }
   ],
   "source": [
    "s1 - s2 #difference"
   ]
  },
  {
   "cell_type": "code",
   "execution_count": 37,
   "id": "e676e17c-81f8-4a38-a98c-1fb6e0796083",
   "metadata": {},
   "outputs": [
    {
     "data": {
      "text/plain": [
       "{'hiking', 'photography', 'reading', 'travelling'}"
      ]
     },
     "execution_count": 37,
     "metadata": {},
     "output_type": "execute_result"
    }
   ],
   "source": [
    "s1^s2 #symmetric"
   ]
  },
  {
   "cell_type": "code",
   "execution_count": 42,
   "id": "cead9ac4-53dc-42ed-ab84-adf1487711f8",
   "metadata": {},
   "outputs": [
    {
     "ename": "AttributeError",
     "evalue": "'list' object has no attribute 'add'",
     "output_type": "error",
     "traceback": [
      "\u001b[0;31m---------------------------------------------------------------------------\u001b[0m",
      "\u001b[0;31mAttributeError\u001b[0m                            Traceback (most recent call last)",
      "Cell \u001b[0;32mIn[42], line 2\u001b[0m\n\u001b[1;32m      1\u001b[0m my_fs \u001b[38;5;241m=\u001b[39m ([\u001b[38;5;241m1\u001b[39m,\u001b[38;5;241m2\u001b[39m,\u001b[38;5;241m2\u001b[39m,\u001b[38;5;241m2\u001b[39m,\u001b[38;5;241m3\u001b[39m,\u001b[38;5;241m3\u001b[39m,\u001b[38;5;241m4\u001b[39m,\u001b[38;5;241m5\u001b[39m])\n\u001b[0;32m----> 2\u001b[0m \u001b[43mmy_fs\u001b[49m\u001b[38;5;241;43m.\u001b[39;49m\u001b[43madd\u001b[49m(\u001b[38;5;241m5\u001b[39m)\n",
      "\u001b[0;31mAttributeError\u001b[0m: 'list' object has no attribute 'add'"
     ]
    }
   ],
   "source": [
    "#frozen list #immutable version of sets.\n",
    "my_fs = ([1,2,2,2,3,3,4,5])\n",
    "my_fs.add(5)"
   ]
  },
  {
   "cell_type": "code",
   "execution_count": null,
   "id": "1a010ec9-c5ad-417e-8f02-90abe3d58756",
   "metadata": {},
   "outputs": [],
   "source": [
    "some of the use cases of tuples are:"
   ]
  },
  {
   "cell_type": "code",
   "execution_count": 43,
   "id": "235498f7-0309-4cc3-b4ab-5fa5bf7a5146",
   "metadata": {},
   "outputs": [
    {
     "data": {
      "text/plain": [
       "tuple"
      ]
     },
     "execution_count": 43,
     "metadata": {},
     "output_type": "execute_result"
    }
   ],
   "source": [
    "t = (\"rain\",\"moon\",1,2,3,5.6,True,3+5j)\n",
    "type(t)"
   ]
  },
  {
   "cell_type": "code",
   "execution_count": 44,
   "id": "e8d480d5-70dd-4405-a484-bfd554bc1e04",
   "metadata": {},
   "outputs": [
    {
     "data": {
      "text/plain": [
       "'rain'"
      ]
     },
     "execution_count": 44,
     "metadata": {},
     "output_type": "execute_result"
    }
   ],
   "source": [
    "t[0]"
   ]
  },
  {
   "cell_type": "code",
   "execution_count": 45,
   "id": "4f2e9dba-fff4-4a0c-bee4-c6a19b31b362",
   "metadata": {},
   "outputs": [
    {
     "data": {
      "text/plain": [
       "5.6"
      ]
     },
     "execution_count": 45,
     "metadata": {},
     "output_type": "execute_result"
    }
   ],
   "source": [
    "t[-3]"
   ]
  },
  {
   "cell_type": "code",
   "execution_count": 46,
   "id": "52236111-cefb-4e13-896e-dd55318981a4",
   "metadata": {},
   "outputs": [
    {
     "ename": "TypeError",
     "evalue": "'tuple' object does not support item assignment",
     "output_type": "error",
     "traceback": [
      "\u001b[0;31m---------------------------------------------------------------------------\u001b[0m",
      "\u001b[0;31mTypeError\u001b[0m                                 Traceback (most recent call last)",
      "Cell \u001b[0;32mIn[46], line 1\u001b[0m\n\u001b[0;32m----> 1\u001b[0m \u001b[43mt\u001b[49m\u001b[43m[\u001b[49m\u001b[38;5;241;43m2\u001b[39;49m\u001b[43m]\u001b[49m \u001b[38;5;241m=\u001b[39m \u001b[38;5;241m100\u001b[39m\n",
      "\u001b[0;31mTypeError\u001b[0m: 'tuple' object does not support item assignment"
     ]
    }
   ],
   "source": [
    "t[2] = 100 #tuples are immutable"
   ]
  },
  {
   "cell_type": "code",
   "execution_count": 47,
   "id": "9f214782-c92a-450b-999f-29866795f14e",
   "metadata": {},
   "outputs": [
    {
     "data": {
      "text/plain": [
       "2"
      ]
     },
     "execution_count": 47,
     "metadata": {},
     "output_type": "execute_result"
    }
   ],
   "source": [
    "t.count(1)"
   ]
  },
  {
   "cell_type": "code",
   "execution_count": 48,
   "id": "f80fc54f-c160-4e29-b6ef-9d1dcedf621d",
   "metadata": {},
   "outputs": [
    {
     "data": {
      "text/plain": [
       "0"
      ]
     },
     "execution_count": 48,
     "metadata": {},
     "output_type": "execute_result"
    }
   ],
   "source": [
    "t.count(-4)"
   ]
  },
  {
   "cell_type": "code",
   "execution_count": 49,
   "id": "e19141f4-0eda-4380-a689-a4a152cf23c7",
   "metadata": {},
   "outputs": [
    {
     "data": {
      "text/plain": [
       "1"
      ]
     },
     "execution_count": 49,
     "metadata": {},
     "output_type": "execute_result"
    }
   ],
   "source": [
    "t.index(\"moon\")"
   ]
  },
  {
   "cell_type": "code",
   "execution_count": 50,
   "id": "f1165765-408d-48f0-82bf-a7419d248469",
   "metadata": {},
   "outputs": [
    {
     "name": "stdout",
     "output_type": "stream",
     "text": [
      "('rain', 'moon', 1, 2, 3, 5.6, True, (3+5j), 'rain', 'moon', 1, 2, 3, 5.6, True, (3+5j))\n"
     ]
    }
   ],
   "source": [
    "print(t*2)"
   ]
  },
  {
   "cell_type": "code",
   "execution_count": 51,
   "id": "89c4f533-6dc2-4db4-87fb-68470d5e733d",
   "metadata": {},
   "outputs": [
    {
     "data": {
      "text/plain": [
       "('rain', 'moon', 1, 2)"
      ]
     },
     "execution_count": 51,
     "metadata": {},
     "output_type": "execute_result"
    }
   ],
   "source": [
    "t[0:4]"
   ]
  },
  {
   "cell_type": "code",
   "execution_count": 52,
   "id": "6460a69a-c9f2-435b-b440-16e76cddde34",
   "metadata": {},
   "outputs": [
    {
     "data": {
      "text/plain": [
       "((3+5j), True, 5.6, 3, 2, 1, 'moon', 'rain')"
      ]
     },
     "execution_count": 52,
     "metadata": {},
     "output_type": "execute_result"
    }
   ],
   "source": [
    "t[::-1]"
   ]
  },
  {
   "cell_type": "code",
   "execution_count": 53,
   "id": "6af1fb4a-e147-4d85-abc2-30d9d7f30732",
   "metadata": {},
   "outputs": [
    {
     "name": "stdout",
     "output_type": "stream",
     "text": [
      "rain <class 'str'>\n",
      "moon <class 'str'>\n",
      "1 <class 'int'>\n",
      "2 <class 'int'>\n",
      "3 <class 'int'>\n",
      "5.6 <class 'float'>\n",
      "True <class 'bool'>\n",
      "(3+5j) <class 'complex'>\n"
     ]
    }
   ],
   "source": [
    "for i in t:\n",
    "    print(i, type(i))"
   ]
  },
  {
   "cell_type": "code",
   "execution_count": 55,
   "id": "81810cb2-c1de-48e9-8b35-9dffeb050714",
   "metadata": {},
   "outputs": [
    {
     "data": {
      "text/plain": [
       "((100, 200), (300, 400))"
      ]
     },
     "execution_count": 55,
     "metadata": {},
     "output_type": "execute_result"
    }
   ],
   "source": [
    "t1 = (100,200)\n",
    "t2 = (300,400)\n",
    "t3 = (t1,t2)\n",
    "t3"
   ]
  },
  {
   "cell_type": "code",
   "execution_count": 56,
   "id": "29803ebd-1294-43e2-9d08-5c0e0c1b5dad",
   "metadata": {},
   "outputs": [
    {
     "ename": "NameError",
     "evalue": "name 't3' is not defined",
     "output_type": "error",
     "traceback": [
      "\u001b[0;31m---------------------------------------------------------------------------\u001b[0m",
      "\u001b[0;31mNameError\u001b[0m                                 Traceback (most recent call last)",
      "Cell \u001b[0;32mIn[56], line 2\u001b[0m\n\u001b[1;32m      1\u001b[0m \u001b[38;5;28;01mdel\u001b[39;00m t3\n\u001b[0;32m----> 2\u001b[0m \u001b[43mt3\u001b[49m\n",
      "\u001b[0;31mNameError\u001b[0m: name 't3' is not defined"
     ]
    }
   ],
   "source": [
    "del t3\n",
    "t3"
   ]
  },
  {
   "cell_type": "code",
   "execution_count": 57,
   "id": "eca7b9b3-1457-40e8-8776-72c68b801c71",
   "metadata": {},
   "outputs": [
    {
     "data": {
      "text/plain": [
       "2"
      ]
     },
     "execution_count": 57,
     "metadata": {},
     "output_type": "execute_result"
    }
   ],
   "source": [
    "len(t1)"
   ]
  },
  {
   "cell_type": "code",
   "execution_count": 58,
   "id": "da133ab1-7585-49c5-bbee-df815f5f340c",
   "metadata": {},
   "outputs": [
    {
     "data": {
      "text/plain": [
       "True"
      ]
     },
     "execution_count": 58,
     "metadata": {},
     "output_type": "execute_result"
    }
   ],
   "source": [
    "100 in t1"
   ]
  },
  {
   "cell_type": "code",
   "execution_count": 59,
   "id": "1d288b04-74e3-454c-9705-b02add9d6e2a",
   "metadata": {},
   "outputs": [
    {
     "data": {
      "text/plain": [
       "False"
      ]
     },
     "execution_count": 59,
     "metadata": {},
     "output_type": "execute_result"
    }
   ],
   "source": [
    "500 in t2"
   ]
  },
  {
   "cell_type": "code",
   "execution_count": 60,
   "id": "80f6ae42-041a-49ea-85cf-e8e4ca5c45da",
   "metadata": {},
   "outputs": [
    {
     "data": {
      "text/plain": [
       "False"
      ]
     },
     "execution_count": 60,
     "metadata": {},
     "output_type": "execute_result"
    }
   ],
   "source": [
    "200 not in t1"
   ]
  },
  {
   "cell_type": "markdown",
   "id": "54a473d3-6012-45ab-9a32-0ba005cdab0f",
   "metadata": {},
   "source": [
    "## 7.Describe how to add, modify, and delete items in a dictionary with examples."
   ]
  },
  {
   "cell_type": "code",
   "execution_count": 61,
   "id": "068d4e98-af03-4b5d-befc-3a3167727869",
   "metadata": {},
   "outputs": [
    {
     "data": {
      "text/plain": [
       "dict"
      ]
     },
     "execution_count": 61,
     "metadata": {},
     "output_type": "execute_result"
    }
   ],
   "source": [
    "d = {}\n",
    "type(d)"
   ]
  },
  {
   "cell_type": "code",
   "execution_count": 63,
   "id": "7492221c-7c80-4383-a994-afbcd20fdbcd",
   "metadata": {},
   "outputs": [
    {
     "data": {
      "text/plain": [
       "{'name': 'ishani', 'email': 'ik@gmail,com', 'contact': '1,2,3,4'}"
      ]
     },
     "execution_count": 63,
     "metadata": {},
     "output_type": "execute_result"
    }
   ],
   "source": [
    "d = {\"name\":\"ishani\",\"email\":\"ik@gmail,com\",\"contact\":\"1,2,3,4\"}\n",
    "d"
   ]
  },
  {
   "cell_type": "code",
   "execution_count": 64,
   "id": "9fa381f4-42ff-470d-b1c6-6b1d565c7dac",
   "metadata": {},
   "outputs": [],
   "source": [
    "#adding items in a dictionary:"
   ]
  },
  {
   "cell_type": "code",
   "execution_count": 65,
   "id": "065da276-a612-41b8-b903-bfd01a16cd3b",
   "metadata": {},
   "outputs": [
    {
     "data": {
      "text/plain": [
       "{'name': 'ishani',\n",
       " 'email': 'ik@gmail,com',\n",
       " 'contact': '1,2,3,4',\n",
       " 'address': 'kolkata'}"
      ]
     },
     "execution_count": 65,
     "metadata": {},
     "output_type": "execute_result"
    }
   ],
   "source": [
    "d[\"address\"] = \"kolkata\"\n",
    "d"
   ]
  },
  {
   "cell_type": "code",
   "execution_count": 66,
   "id": "3e60072b-6f91-48ce-b6cb-4f90c1e2fd3e",
   "metadata": {},
   "outputs": [],
   "source": [
    "#modification in a dictionary:"
   ]
  },
  {
   "cell_type": "code",
   "execution_count": 67,
   "id": "e6908e92-7a1e-4b10-9b0d-03df077c9431",
   "metadata": {},
   "outputs": [
    {
     "data": {
      "text/plain": [
       "{'name': 'kundu',\n",
       " 'email': 'ik@gmail,com',\n",
       " 'contact': '1,2,3,4',\n",
       " 'address': 'kolkata'}"
      ]
     },
     "execution_count": 67,
     "metadata": {},
     "output_type": "execute_result"
    }
   ],
   "source": [
    "d[\"name\"] = \"kundu\"\n",
    "d"
   ]
  },
  {
   "cell_type": "code",
   "execution_count": 68,
   "id": "4c94b786-7d52-4ed0-ba86-77563b91a588",
   "metadata": {},
   "outputs": [],
   "source": [
    "# deleting in a dictionary:"
   ]
  },
  {
   "cell_type": "code",
   "execution_count": 69,
   "id": "76fabdd5-a40c-4827-8ab9-fac5007a8dc9",
   "metadata": {},
   "outputs": [
    {
     "data": {
      "text/plain": [
       "{'name': 'kundu', 'email': 'ik@gmail,com', 'address': 'kolkata'}"
      ]
     },
     "execution_count": 69,
     "metadata": {},
     "output_type": "execute_result"
    }
   ],
   "source": [
    "del d[\"contact\"]\n",
    "d"
   ]
  },
  {
   "cell_type": "code",
   "execution_count": 70,
   "id": "42ba30a6-935d-4da9-b374-cc018aa88504",
   "metadata": {},
   "outputs": [
    {
     "ename": "NameError",
     "evalue": "name 'd' is not defined",
     "output_type": "error",
     "traceback": [
      "\u001b[0;31m---------------------------------------------------------------------------\u001b[0m",
      "\u001b[0;31mNameError\u001b[0m                                 Traceback (most recent call last)",
      "Cell \u001b[0;32mIn[70], line 2\u001b[0m\n\u001b[1;32m      1\u001b[0m \u001b[38;5;28;01mdel\u001b[39;00m d\n\u001b[0;32m----> 2\u001b[0m \u001b[43md\u001b[49m\n",
      "\u001b[0;31mNameError\u001b[0m: name 'd' is not defined"
     ]
    }
   ],
   "source": [
    "del d\n",
    "d"
   ]
  },
  {
   "cell_type": "code",
   "execution_count": 74,
   "id": "e562d069-5bfd-427b-9c19-23b3eea1391c",
   "metadata": {},
   "outputs": [
    {
     "ename": "NameError",
     "evalue": "name 'd' is not defined",
     "output_type": "error",
     "traceback": [
      "\u001b[0;31m---------------------------------------------------------------------------\u001b[0m",
      "\u001b[0;31mNameError\u001b[0m                                 Traceback (most recent call last)",
      "Cell \u001b[0;32mIn[74], line 1\u001b[0m\n\u001b[0;32m----> 1\u001b[0m \u001b[43md\u001b[49m\u001b[38;5;241m.\u001b[39mclear()\n\u001b[1;32m      2\u001b[0m d\n",
      "\u001b[0;31mNameError\u001b[0m: name 'd' is not defined"
     ]
    }
   ],
   "source": [
    "d.clear()\n",
    "d"
   ]
  },
  {
   "cell_type": "markdown",
   "id": "0bc08b88-30ca-4cca-83e3-843aafb85c9b",
   "metadata": {},
   "source": [
    "## 8.Discuss the importance of dictionary keys being immutable and provide examples."
   ]
  },
  {
   "cell_type": "code",
   "execution_count": 9,
   "id": "02443b6d-dce0-47b3-b8ec-82b62237b7c8",
   "metadata": {},
   "outputs": [],
   "source": [
    "# Dictionary - is a data structure that stores data as key value pair.\n",
    "# keys are unique and imutable."
   ]
  },
  {
   "cell_type": "code",
   "execution_count": 1,
   "id": "6b46da80-ab16-43ef-9f22-12a64607310b",
   "metadata": {},
   "outputs": [
    {
     "data": {
      "text/plain": [
       "dict"
      ]
     },
     "execution_count": 1,
     "metadata": {},
     "output_type": "execute_result"
    }
   ],
   "source": [
    "d = {}\n",
    "type(d)"
   ]
  },
  {
   "cell_type": "code",
   "execution_count": 10,
   "id": "080bbe36-3ffd-4683-b5c2-bc22aa483bdf",
   "metadata": {},
   "outputs": [],
   "source": [
    "# Immutability is essential for keys because it ensures that the dictionary can efficiently look up values based on their keys. If a key was mutable, its hash value could change, making it impossible to find the associated value in the dictionary. \n",
    "# only strings and numbers can be used as a key of the dictionary.\n",
    "# for example:"
   ]
  },
  {
   "cell_type": "code",
   "execution_count": 2,
   "id": "90532038-ba68-40df-aa4f-6b583408f210",
   "metadata": {},
   "outputs": [
    {
     "data": {
      "text/plain": [
       "{'course': 'data science'}"
      ]
     },
     "execution_count": 2,
     "metadata": {},
     "output_type": "execute_result"
    }
   ],
   "source": [
    "d1 = {\"course\":\"data science\"}\n",
    "d.update(d1)\n",
    "d"
   ]
  },
  {
   "cell_type": "code",
   "execution_count": 5,
   "id": "1fb2404b-6e25-4a33-9fad-9fff1a47ed58",
   "metadata": {},
   "outputs": [
    {
     "name": "stdout",
     "output_type": "stream",
     "text": [
      "('a', 80)\n",
      "('b', 95)\n",
      "('c', 100)\n"
     ]
    }
   ],
   "source": [
    "#dictionary comprehension\n",
    "#zip function\n",
    "students = [\"a\",\"b\",\"c\"]\n",
    "Marks = [ 80,95,100]\n",
    "for i in zip(students,Marks):\n",
    "    print(i)"
   ]
  },
  {
   "cell_type": "code",
   "execution_count": 9,
   "id": "8cd611b6-2609-4f36-8126-cd9ef1f2ca20",
   "metadata": {},
   "outputs": [
    {
     "data": {
      "text/plain": [
       "{'a': [80, 95, 100], 'b': [80, 95, 100], 'c': [80, 95, 100]}"
      ]
     },
     "execution_count": 9,
     "metadata": {},
     "output_type": "execute_result"
    }
   ],
   "source": [
    "students = [\"a\",\"b\",\"c\"]\n",
    "Marks = [ 80,95,100]\n",
    "students_marks ={}\n",
    "for student, mark1 in zip (students,Marks):\n",
    "    students_marks[student] =Marks\n",
    "students_marks"
   ]
  },
  {
   "cell_type": "code",
   "execution_count": null,
   "id": "f514c781-2026-42fb-9e13-5914658ac93c",
   "metadata": {},
   "outputs": [],
   "source": []
  }
 ],
 "metadata": {
  "kernelspec": {
   "display_name": "Python 3 (ipykernel)",
   "language": "python",
   "name": "python3"
  },
  "language_info": {
   "codemirror_mode": {
    "name": "ipython",
    "version": 3
   },
   "file_extension": ".py",
   "mimetype": "text/x-python",
   "name": "python",
   "nbconvert_exporter": "python",
   "pygments_lexer": "ipython3",
   "version": "3.12.4"
  }
 },
 "nbformat": 4,
 "nbformat_minor": 5
}
